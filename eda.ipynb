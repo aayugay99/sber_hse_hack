{
 "cells": [
  {
   "cell_type": "code",
   "execution_count": 28,
   "metadata": {},
   "outputs": [],
   "source": [
    "import matplotlib.pyplot as plt\n",
    "import pandas as pd\n",
    "import numpy as np"
   ]
  },
  {
   "cell_type": "code",
   "execution_count": 3,
   "metadata": {},
   "outputs": [],
   "source": [
    "df = pd.read_csv(\"data/transactions.csv\")"
   ]
  },
  {
   "cell_type": "code",
   "execution_count": 7,
   "metadata": {},
   "outputs": [],
   "source": [
    "train = pd.read_csv(\"data/train.csv\", index_col=0)"
   ]
  },
  {
   "cell_type": "code",
   "execution_count": 9,
   "metadata": {},
   "outputs": [
    {
     "data": {
      "text/html": [
       "<div>\n",
       "<style scoped>\n",
       "    .dataframe tbody tr th:only-of-type {\n",
       "        vertical-align: middle;\n",
       "    }\n",
       "\n",
       "    .dataframe tbody tr th {\n",
       "        vertical-align: top;\n",
       "    }\n",
       "\n",
       "    .dataframe thead th {\n",
       "        text-align: right;\n",
       "    }\n",
       "</style>\n",
       "<table border=\"1\" class=\"dataframe\">\n",
       "  <thead>\n",
       "    <tr style=\"text-align: right;\">\n",
       "      <th></th>\n",
       "      <th>client_id</th>\n",
       "      <th>gender</th>\n",
       "    </tr>\n",
       "  </thead>\n",
       "  <tbody>\n",
       "    <tr>\n",
       "      <th>0</th>\n",
       "      <td>c5f18a1d1d83fda62e51e6ae1d7b8911</td>\n",
       "      <td>1</td>\n",
       "    </tr>\n",
       "    <tr>\n",
       "      <th>1</th>\n",
       "      <td>4b6861803556de90249e13d7cf66f0a9</td>\n",
       "      <td>0</td>\n",
       "    </tr>\n",
       "    <tr>\n",
       "      <th>2</th>\n",
       "      <td>7d3f908e1cd1e3624a1445df5e04c4fa</td>\n",
       "      <td>1</td>\n",
       "    </tr>\n",
       "    <tr>\n",
       "      <th>3</th>\n",
       "      <td>40c585a809c1bd17dc6d283d61acd2d2</td>\n",
       "      <td>0</td>\n",
       "    </tr>\n",
       "    <tr>\n",
       "      <th>4</th>\n",
       "      <td>5bd2ff9f6c591353577488b0dfca6dea</td>\n",
       "      <td>0</td>\n",
       "    </tr>\n",
       "    <tr>\n",
       "      <th>...</th>\n",
       "      <td>...</td>\n",
       "      <td>...</td>\n",
       "    </tr>\n",
       "    <tr>\n",
       "      <th>7555</th>\n",
       "      <td>596baadc284cb94a91c1fdd7a422a022</td>\n",
       "      <td>0</td>\n",
       "    </tr>\n",
       "    <tr>\n",
       "      <th>7556</th>\n",
       "      <td>9b317a4cff6bb3b630cd966f68db410b</td>\n",
       "      <td>0</td>\n",
       "    </tr>\n",
       "    <tr>\n",
       "      <th>7557</th>\n",
       "      <td>eb3b544e3c5293739f09dcd71a649b18</td>\n",
       "      <td>0</td>\n",
       "    </tr>\n",
       "    <tr>\n",
       "      <th>7558</th>\n",
       "      <td>e1c1a70bfcb000d1188745cef71b3b61</td>\n",
       "      <td>0</td>\n",
       "    </tr>\n",
       "    <tr>\n",
       "      <th>7559</th>\n",
       "      <td>e4347a1a2a6c2bc66818209d74d415e2</td>\n",
       "      <td>0</td>\n",
       "    </tr>\n",
       "  </tbody>\n",
       "</table>\n",
       "<p>7560 rows × 2 columns</p>\n",
       "</div>"
      ],
      "text/plain": [
       "                             client_id  gender\n",
       "0     c5f18a1d1d83fda62e51e6ae1d7b8911       1\n",
       "1     4b6861803556de90249e13d7cf66f0a9       0\n",
       "2     7d3f908e1cd1e3624a1445df5e04c4fa       1\n",
       "3     40c585a809c1bd17dc6d283d61acd2d2       0\n",
       "4     5bd2ff9f6c591353577488b0dfca6dea       0\n",
       "...                                ...     ...\n",
       "7555  596baadc284cb94a91c1fdd7a422a022       0\n",
       "7556  9b317a4cff6bb3b630cd966f68db410b       0\n",
       "7557  eb3b544e3c5293739f09dcd71a649b18       0\n",
       "7558  e1c1a70bfcb000d1188745cef71b3b61       0\n",
       "7559  e4347a1a2a6c2bc66818209d74d415e2       0\n",
       "\n",
       "[7560 rows x 2 columns]"
      ]
     },
     "execution_count": 9,
     "metadata": {},
     "output_type": "execute_result"
    }
   ],
   "source": [
    "train"
   ]
  },
  {
   "cell_type": "code",
   "execution_count": 11,
   "metadata": {},
   "outputs": [],
   "source": [
    "df = df.merge(train)"
   ]
  },
  {
   "cell_type": "code",
   "execution_count": 39,
   "metadata": {},
   "outputs": [
    {
     "data": {
      "text/html": [
       "<div>\n",
       "<style scoped>\n",
       "    .dataframe tbody tr th:only-of-type {\n",
       "        vertical-align: middle;\n",
       "    }\n",
       "\n",
       "    .dataframe tbody tr th {\n",
       "        vertical-align: top;\n",
       "    }\n",
       "\n",
       "    .dataframe thead th {\n",
       "        text-align: right;\n",
       "    }\n",
       "</style>\n",
       "<table border=\"1\" class=\"dataframe\">\n",
       "  <thead>\n",
       "    <tr style=\"text-align: right;\">\n",
       "      <th></th>\n",
       "      <th>client_id</th>\n",
       "      <th>trans_time</th>\n",
       "      <th>mcc_code</th>\n",
       "      <th>trans_type</th>\n",
       "      <th>amount</th>\n",
       "      <th>term_id</th>\n",
       "      <th>trans_city</th>\n",
       "      <th>gender</th>\n",
       "    </tr>\n",
       "  </thead>\n",
       "  <tbody>\n",
       "    <tr>\n",
       "      <th>0</th>\n",
       "      <td>d1bbbc9a0e0410d3cf12a3d2f44f3450</td>\n",
       "      <td>35 08:24:41</td>\n",
       "      <td>4829</td>\n",
       "      <td>2370</td>\n",
       "      <td>-1808.56</td>\n",
       "      <td>NaN</td>\n",
       "      <td>Tver</td>\n",
       "      <td>0</td>\n",
       "    </tr>\n",
       "    <tr>\n",
       "      <th>1</th>\n",
       "      <td>d1bbbc9a0e0410d3cf12a3d2f44f3450</td>\n",
       "      <td>105 12:57:32</td>\n",
       "      <td>4829</td>\n",
       "      <td>2370</td>\n",
       "      <td>-3390.41</td>\n",
       "      <td>NaN</td>\n",
       "      <td>Tver</td>\n",
       "      <td>0</td>\n",
       "    </tr>\n",
       "    <tr>\n",
       "      <th>2</th>\n",
       "      <td>d1bbbc9a0e0410d3cf12a3d2f44f3450</td>\n",
       "      <td>455 19:32:01</td>\n",
       "      <td>4814</td>\n",
       "      <td>1030</td>\n",
       "      <td>-144.50</td>\n",
       "      <td>889003</td>\n",
       "      <td>Tver</td>\n",
       "      <td>0</td>\n",
       "    </tr>\n",
       "    <tr>\n",
       "      <th>3</th>\n",
       "      <td>d1bbbc9a0e0410d3cf12a3d2f44f3450</td>\n",
       "      <td>83 09:22:26</td>\n",
       "      <td>6011</td>\n",
       "      <td>2010</td>\n",
       "      <td>-3542.30</td>\n",
       "      <td>NaN</td>\n",
       "      <td>Tver</td>\n",
       "      <td>0</td>\n",
       "    </tr>\n",
       "    <tr>\n",
       "      <th>4</th>\n",
       "      <td>d1bbbc9a0e0410d3cf12a3d2f44f3450</td>\n",
       "      <td>74 13:31:57</td>\n",
       "      <td>6011</td>\n",
       "      <td>2010</td>\n",
       "      <td>-3542.70</td>\n",
       "      <td>NaN</td>\n",
       "      <td>Tver</td>\n",
       "      <td>0</td>\n",
       "    </tr>\n",
       "  </tbody>\n",
       "</table>\n",
       "</div>"
      ],
      "text/plain": [
       "                          client_id    trans_time  mcc_code  trans_type  \\\n",
       "0  d1bbbc9a0e0410d3cf12a3d2f44f3450   35 08:24:41      4829        2370   \n",
       "1  d1bbbc9a0e0410d3cf12a3d2f44f3450  105 12:57:32      4829        2370   \n",
       "2  d1bbbc9a0e0410d3cf12a3d2f44f3450  455 19:32:01      4814        1030   \n",
       "3  d1bbbc9a0e0410d3cf12a3d2f44f3450   83 09:22:26      6011        2010   \n",
       "4  d1bbbc9a0e0410d3cf12a3d2f44f3450   74 13:31:57      6011        2010   \n",
       "\n",
       "    amount term_id trans_city  gender  \n",
       "0 -1808.56     NaN       Tver       0  \n",
       "1 -3390.41     NaN       Tver       0  \n",
       "2  -144.50  889003       Tver       0  \n",
       "3 -3542.30     NaN       Tver       0  \n",
       "4 -3542.70     NaN       Tver       0  "
      ]
     },
     "execution_count": 39,
     "metadata": {},
     "output_type": "execute_result"
    }
   ],
   "source": [
    "df.head()"
   ]
  },
  {
   "cell_type": "code",
   "execution_count": 45,
   "metadata": {},
   "outputs": [
    {
     "data": {
      "text/plain": [
       "client_id           0\n",
       "trans_time          0\n",
       "mcc_code            0\n",
       "trans_type          0\n",
       "amount              0\n",
       "term_id       1311048\n",
       "trans_city          0\n",
       "gender              0\n",
       "dtype: int64"
      ]
     },
     "execution_count": 45,
     "metadata": {},
     "output_type": "execute_result"
    }
   ],
   "source": [
    "df.isna().sum()"
   ]
  },
  {
   "cell_type": "code",
   "execution_count": 25,
   "metadata": {},
   "outputs": [],
   "source": [
    "lower, upper = df[\"amount\"].quantile(0.01), df[\"amount\"].quantile(0.99)"
   ]
  },
  {
   "cell_type": "code",
   "execution_count": 27,
   "metadata": {},
   "outputs": [
    {
     "data": {
      "text/plain": [
       "21693.05"
      ]
     },
     "execution_count": 27,
     "metadata": {},
     "output_type": "execute_result"
    }
   ],
   "source": [
    "upper"
   ]
  },
  {
   "cell_type": "code",
   "execution_count": 37,
   "metadata": {},
   "outputs": [
    {
     "data": {
      "text/plain": [
       "(array([  2786.,   6898.,  24607., 124035., 329192., 373784., 271989.,\n",
       "        222219., 101951., 103643.]),\n",
       " array([ 0.        ,  1.02724768,  2.05449535,  3.08174303,  4.10899071,\n",
       "         5.13623838,  6.16348606,  7.19073373,  8.21798141,  9.24522909,\n",
       "        10.27247676]),\n",
       " <BarContainer object of 10 artists>)"
      ]
     },
     "execution_count": 37,
     "metadata": {},
     "output_type": "execute_result"
    },
    {
     "data": {
      "image/png": "[encoded data removed]",
      "text/plain": [
       "<Figure size 640x480 with 1 Axes>"
      ]
     },
     "metadata": {},
     "output_type": "display_data"
    }
   ],
   "source": [
    "plt.hist(np.log(1 + abs(np.clip(df[df[\"gender\"]==0][\"amount\"], lower, upper))))\n",
    "plt.hist(np.log(1 + abs(np.clip(df[df[\"gender\"]==1][\"amount\"], lower, upper))))"
   ]
  },
  {
   "cell_type": "code",
   "execution_count": 47,
   "metadata": {},
   "outputs": [
    {
     "data": {
      "text/plain": [
       "1010    404101\n",
       "1030    263593\n",
       "2010    259628\n",
       "1110    212696\n",
       "7070    155586\n",
       "2370     90338\n",
       "7010     67728\n",
       "7030     41037\n",
       "1100     26057\n",
       "2330     19285\n",
       "Name: trans_type, dtype: int64"
      ]
     },
     "execution_count": 47,
     "metadata": {},
     "output_type": "execute_result"
    }
   ],
   "source": [
    "df[df[\"gender\"]==0][\"trans_type\"].value_counts().iloc[:10]"
   ]
  },
  {
   "cell_type": "code",
   "execution_count": 49,
   "metadata": {},
   "outputs": [
    {
     "data": {
      "text/plain": [
       "1010    360511\n",
       "2010    244300\n",
       "1110    231153\n",
       "1030    197765\n",
       "7070    148139\n",
       "2370     82066\n",
       "7010     59742\n",
       "1100     30455\n",
       "7030     27956\n",
       "7071     25272\n",
       "Name: trans_type, dtype: int64"
      ]
     },
     "execution_count": 49,
     "metadata": {},
     "output_type": "execute_result"
    }
   ],
   "source": [
    "df[df[\"gender\"]==1][\"trans_type\"].value_counts().iloc[:10]"
   ]
  },
  {
   "cell_type": "code",
   "execution_count": 54,
   "metadata": {},
   "outputs": [
    {
     "data": {
      "text/html": [
       "<div>\n",
       "<style scoped>\n",
       "    .dataframe tbody tr th:only-of-type {\n",
       "        vertical-align: middle;\n",
       "    }\n",
       "\n",
       "    .dataframe tbody tr th {\n",
       "        vertical-align: top;\n",
       "    }\n",
       "\n",
       "    .dataframe thead th {\n",
       "        text-align: right;\n",
       "    }\n",
       "</style>\n",
       "<table border=\"1\" class=\"dataframe\">\n",
       "  <thead>\n",
       "    <tr style=\"text-align: right;\">\n",
       "      <th></th>\n",
       "      <th>mean</th>\n",
       "      <th>count</th>\n",
       "    </tr>\n",
       "    <tr>\n",
       "      <th>mcc_code</th>\n",
       "      <th></th>\n",
       "      <th></th>\n",
       "    </tr>\n",
       "  </thead>\n",
       "  <tbody>\n",
       "    <tr>\n",
       "      <th>6011</th>\n",
       "      <td>0.488591</td>\n",
       "      <td>701877</td>\n",
       "    </tr>\n",
       "    <tr>\n",
       "      <th>4814</th>\n",
       "      <td>0.430271</td>\n",
       "      <td>468844</td>\n",
       "    </tr>\n",
       "    <tr>\n",
       "      <th>5411</th>\n",
       "      <td>0.470354</td>\n",
       "      <td>463466</td>\n",
       "    </tr>\n",
       "    <tr>\n",
       "      <th>6010</th>\n",
       "      <td>0.487344</td>\n",
       "      <td>448271</td>\n",
       "    </tr>\n",
       "    <tr>\n",
       "      <th>4829</th>\n",
       "      <td>0.482821</td>\n",
       "      <td>289306</td>\n",
       "    </tr>\n",
       "    <tr>\n",
       "      <th>5499</th>\n",
       "      <td>0.473897</td>\n",
       "      <td>159577</td>\n",
       "    </tr>\n",
       "    <tr>\n",
       "      <th>5541</th>\n",
       "      <td>0.735494</td>\n",
       "      <td>69488</td>\n",
       "    </tr>\n",
       "    <tr>\n",
       "      <th>5912</th>\n",
       "      <td>0.366750</td>\n",
       "      <td>65118</td>\n",
       "    </tr>\n",
       "    <tr>\n",
       "      <th>5331</th>\n",
       "      <td>0.437836</td>\n",
       "      <td>63003</td>\n",
       "    </tr>\n",
       "    <tr>\n",
       "      <th>5812</th>\n",
       "      <td>0.560911</td>\n",
       "      <td>50229</td>\n",
       "    </tr>\n",
       "  </tbody>\n",
       "</table>\n",
       "</div>"
      ],
      "text/plain": [
       "              mean   count\n",
       "mcc_code                  \n",
       "6011      0.488591  701877\n",
       "4814      0.430271  468844\n",
       "5411      0.470354  463466\n",
       "6010      0.487344  448271\n",
       "4829      0.482821  289306\n",
       "5499      0.473897  159577\n",
       "5541      0.735494   69488\n",
       "5912      0.366750   65118\n",
       "5331      0.437836   63003\n",
       "5812      0.560911   50229"
      ]
     },
     "execution_count": 54,
     "metadata": {},
     "output_type": "execute_result"
    }
   ],
   "source": [
    "df.groupby(\"mcc_code\")[\"gender\"].agg([\"mean\", \"count\"]).sort_values(\"count\", ascending=False).iloc[: 10]"
   ]
  },
  {
   "cell_type": "code",
   "execution_count": 46,
   "metadata": {},
   "outputs": [
    {
     "data": {
      "text/plain": [
       "0          2370\n",
       "1          2370\n",
       "2          1030\n",
       "3          2010\n",
       "4          2010\n",
       "           ... \n",
       "3238727    1030\n",
       "3238728    7010\n",
       "3238729    2010\n",
       "3238730    2010\n",
       "3238731    2370\n",
       "Name: trans_type, Length: 3238732, dtype: int64"
      ]
     },
     "execution_count": 46,
     "metadata": {},
     "output_type": "execute_result"
    }
   ],
   "source": [
    "df[\"trans_type\"]"
   ]
  }
 ],
 "metadata": {
  "kernelspec": {
   "display_name": "Python 3",
   "language": "python",
   "name": "python3"
  },
  "language_info": {
   "codemirror_mode": {
    "name": "ipython",
    "version": 3
   },
   "file_extension": ".py",
   "mimetype": "text/x-python",
   "name": "python",
   "nbconvert_exporter": "python",
   "pygments_lexer": "ipython3",
   "version": "3.9.13"
  },
  "orig_nbformat": 4,
  "vscode": {
   "interpreter": {
    "hash": "cf92aa13fedf815d5c8dd192b8d835913fde3e8bc926b2a0ad6cc74ef2ba3ca2"
   }
  }
 },
 "nbformat": 4,
 "nbformat_minor": 2
}
