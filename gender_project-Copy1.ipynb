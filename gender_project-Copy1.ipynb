{
 "cells": [
  {
   "cell_type": "code",
   "execution_count": 29,
   "metadata": {
    "ExecuteTime": {
     "end_time": "2019-03-05T17:34:52.054851Z",
     "start_time": "2019-03-05T17:34:51.515762Z"
    },
    "execution": {
     "iopub.execute_input": "2023-11-17T22:31:23.315349Z",
     "iopub.status.busy": "2023-11-17T22:31:23.314346Z",
     "iopub.status.idle": "2023-11-17T22:31:23.332108Z",
     "shell.execute_reply": "2023-11-17T22:31:23.331107Z",
     "shell.execute_reply.started": "2023-11-17T22:31:23.315349Z"
    },
    "tags": []
   },
   "outputs": [],
   "source": [
    "import pandas as pd\n",
    "import numpy as np\n",
    "import xgboost as xgb\n",
    "import re\n",
    "import os\n",
    "import matplotlib.pyplot as plt\n",
    "from sklearn.preprocessing import MinMaxScaler\n",
    "from sklearn.model_selection import train_test_split\n",
    "\n",
    "import joblib\n",
    "\n",
    "from tqdm._tqdm_notebook import tqdm_notebook"
   ]
  },
  {
   "cell_type": "code",
   "execution_count": 30,
   "metadata": {
    "execution": {
     "iopub.execute_input": "2023-11-17T22:31:23.426082Z",
     "iopub.status.busy": "2023-11-17T22:31:23.425083Z",
     "iopub.status.idle": "2023-11-17T22:31:23.441151Z",
     "shell.execute_reply": "2023-11-17T22:31:23.440281Z",
     "shell.execute_reply.started": "2023-11-17T22:31:23.426082Z"
    },
    "tags": []
   },
   "outputs": [],
   "source": [
    "PATH_DATA = './'\n",
    "MODEL_PATH = \"model.pkl\""
   ]
  },
  {
   "cell_type": "code",
   "execution_count": 31,
   "metadata": {
    "ExecuteTime": {
     "end_time": "2019-03-05T17:34:58.314241Z",
     "start_time": "2019-03-05T17:34:52.056205Z"
    },
    "execution": {
     "iopub.execute_input": "2023-11-17T22:31:23.539501Z",
     "iopub.status.busy": "2023-11-17T22:31:23.538370Z",
     "iopub.status.idle": "2023-11-17T22:31:33.158027Z",
     "shell.execute_reply": "2023-11-17T22:31:33.146160Z",
     "shell.execute_reply.started": "2023-11-17T22:31:23.539501Z"
    },
    "tags": []
   },
   "outputs": [],
   "source": [
    "# Считываем данные\n",
    "tr_mcc_codes = pd.read_csv(os.path.join(PATH_DATA, 'mcc_codes.csv'), sep=';', index_col='mcc_code')\n",
    "tr_types = pd.read_csv(os.path.join(PATH_DATA, 'trans_types.csv'), sep=';', index_col='trans_type')\n",
    "\n",
    "transactions = pd.read_csv(os.path.join(PATH_DATA, 'transactions.csv'), index_col='client_id')\n",
    "gender_train = pd.read_csv(os.path.join(PATH_DATA, 'train.csv'), index_col='client_id')\n",
    "gender_test = pd.read_csv(os.path.join(PATH_DATA, 'test.csv'), index_col='client_id')\n",
    "transactions_train = transactions.join(gender_train, how='inner')\n",
    "transactions_test = transactions.join(gender_test, how='inner')"
   ]
  },
  {
   "cell_type": "code",
   "execution_count": 32,
   "metadata": {
    "ExecuteTime": {
     "end_time": "2019-03-05T17:34:58.354996Z",
     "start_time": "2019-03-05T17:34:58.315591Z"
    },
    "execution": {
     "iopub.execute_input": "2023-11-17T22:31:33.168023Z",
     "iopub.status.busy": "2023-11-17T22:31:33.167021Z",
     "iopub.status.idle": "2023-11-17T22:31:33.207416Z",
     "shell.execute_reply": "2023-11-17T22:31:33.205332Z",
     "shell.execute_reply.started": "2023-11-17T22:31:33.168023Z"
    },
    "tags": []
   },
   "outputs": [],
   "source": [
    "# Функции, которыми можно пользоваться для построения классификатора, \n",
    "# оценки его результатов и построение прогноза для тестовой части пользователей\n",
    "\n",
    "# Cross-validation score (среднее значение метрики ROC AUC на тренировочных данных)\n",
    "def cv_score(params, train, y_true):\n",
    "    cv_res=xgb.cv(params, xgb.DMatrix(train, y_true),\n",
    "                  early_stopping_rounds=10, maximize=True, \n",
    "                  num_boost_round=10000, nfold=5, stratified=True)\n",
    "    index_argmax = cv_res['test-auc-mean'].argmax()\n",
    "    print('Cross-validation, ROC AUC: {:.3f}+-{:.3f}, Trees: {}'.format(cv_res.loc[index_argmax]['test-auc-mean'],\n",
    "                                                                        cv_res.loc[index_argmax]['test-auc-std'],\n",
    "                                                                        index_argmax))\n",
    "\n",
    "# Построение модели + возврат результатов классификации тестовых пользователей\n",
    "def fit_predict(params, num_trees, train, test, target):\n",
    "    params['learning_rate'] = params['eta']\n",
    "    clf = xgb.train(params, xgb.DMatrix(train.values, target, feature_names=list(train.columns)), \n",
    "                    num_boost_round=num_trees, maximize=True)\n",
    "    y_pred = clf.predict(xgb.DMatrix(test.values, feature_names=list(train.columns)))\n",
    "    submission = pd.DataFrame(index=test.index, data=y_pred, columns=['probability'])\n",
    "    \n",
    "    joblib.dump(clf, MODEL_PATH)\n",
    "    return clf, submission\n",
    "\n",
    "# Отрисовка важности переменных. Важность переменной - количество разбиений выборки, \n",
    "# в которых участвует данная переменная. Чем больше - тем она, вероятно, лучше \n",
    "def draw_feature_importances(clf, top_k=10):\n",
    "    plt.figure(figsize=(10, 10))\n",
    "    \n",
    "    importances = dict(sorted(clf.get_score().items(), key=lambda x: x[1])[-top_k:])\n",
    "    y_pos = np.arange(len(importances))\n",
    "    \n",
    "    plt.barh(y_pos, list(importances.values()), align='center', color='green')\n",
    "    plt.yticks(y_pos, importances.keys(), fontsize=12)\n",
    "    plt.xticks(fontsize=12)\n",
    "    plt.xlabel('Feature importance', fontsize=15)\n",
    "    plt.title('Features importances, Sberbank Gender Prediction', fontsize=18)\n",
    "    plt.ylim(-0.5, len(importances) - 0.5)\n",
    "    plt.show()"
   ]
  },
  {
   "cell_type": "code",
   "execution_count": 33,
   "metadata": {
    "ExecuteTime": {
     "end_time": "2019-03-05T17:34:58.362104Z",
     "start_time": "2019-03-05T17:34:58.356308Z"
    },
    "execution": {
     "iopub.execute_input": "2023-11-17T22:31:33.211426Z",
     "iopub.status.busy": "2023-11-17T22:31:33.210429Z",
     "iopub.status.idle": "2023-11-17T22:31:33.237439Z",
     "shell.execute_reply": "2023-11-17T22:31:33.236440Z",
     "shell.execute_reply.started": "2023-11-17T22:31:33.211426Z"
    },
    "tags": []
   },
   "outputs": [],
   "source": [
    "params = {\n",
    "    'eta': 0.1,\n",
    "    'max_depth': 3,\n",
    "    'subsample': 0.8,\n",
    "    'colsample_bytree': 0.8,\n",
    "    \n",
    "    'gamma': 0,\n",
    "    'lambda': 0,\n",
    "    'alpha': 0,\n",
    "    'min_child_weight': 0,\n",
    "    \n",
    "    'eval_metric': 'auc',\n",
    "    'objective': 'binary:logistic' ,\n",
    "    'booster': 'gbtree',\n",
    "    'njobs': -1,\n",
    "    'tree_method': 'approx'\n",
    "}"
   ]
  },
  {
   "cell_type": "markdown",
   "metadata": {},
   "source": [
    "# простые фичи"
   ]
  },
  {
   "cell_type": "code",
   "execution_count": 34,
   "metadata": {
    "ExecuteTime": {
     "end_time": "2019-03-05T17:35:41.272300Z",
     "start_time": "2019-03-05T17:34:58.363622Z"
    },
    "execution": {
     "iopub.execute_input": "2023-11-17T22:31:33.242927Z",
     "iopub.status.busy": "2023-11-17T22:31:33.241925Z",
     "iopub.status.idle": "2023-11-17T22:32:02.465964Z",
     "shell.execute_reply": "2023-11-17T22:32:02.463974Z",
     "shell.execute_reply.started": "2023-11-17T22:31:33.242927Z"
    },
    "tags": []
   },
   "outputs": [
    {
     "data": {
      "application/vnd.jupyter.widget-view+json": {
       "model_id": "40d3cddfe48342739044084aceabe567",
       "version_major": 2,
       "version_minor": 0
      },
      "text/plain": [
       "Progress:   0%|          | 0/7560 [00:00<?, ?it/s]"
      ]
     },
     "metadata": {},
     "output_type": "display_data"
    },
    {
     "data": {
      "application/vnd.jupyter.widget-view+json": {
       "model_id": "be55ae7d85dc4da492d127192394bc11",
       "version_major": 2,
       "version_minor": 0
      },
      "text/plain": [
       "Progress:   0%|          | 0/840 [00:00<?, ?it/s]"
      ]
     },
     "metadata": {},
     "output_type": "display_data"
    }
   ],
   "source": [
    "tqdm_notebook.pandas(desc=\"Progress\")\n",
    "\n",
    "def features_creation_basic(x): \n",
    "    features = []\n",
    "    features.append(pd.Series(x[x['amount']>0]['amount'].agg(['min', 'max', 'mean', 'median', 'std', 'count'])\\\n",
    "                                                        .add_prefix('positive_transactions_')))\n",
    "    features.append(pd.Series(x[x['amount']<0]['amount'].agg(['min', 'max', 'mean', 'median', 'std', 'count'])\\\n",
    "                                                        .add_prefix('negative_transactions_')))\n",
    " \n",
    "    return pd.concat(features)\n",
    "\n",
    "data_train = transactions_train.groupby(transactions_train.index).progress_apply(features_creation_basic)\n",
    "data_test = transactions_test.groupby(transactions_test.index).progress_apply(features_creation_basic)"
   ]
  },
  {
   "cell_type": "code",
   "execution_count": 35,
   "metadata": {
    "ExecuteTime": {
     "end_time": "2019-03-05T17:35:45.011046Z",
     "start_time": "2019-03-05T17:35:41.273326Z"
    },
    "execution": {
     "iopub.execute_input": "2023-11-17T22:32:02.466961Z",
     "iopub.status.busy": "2023-11-17T22:32:02.466961Z",
     "iopub.status.idle": "2023-11-17T22:32:03.763038Z",
     "shell.execute_reply": "2023-11-17T22:32:03.761036Z",
     "shell.execute_reply.started": "2023-11-17T22:32:02.466961Z"
    },
    "tags": []
   },
   "outputs": [
    {
     "name": "stderr",
     "output_type": "stream",
     "text": [
      "C:\\Users\\MSI Prestige\\AppData\\Local\\Programs\\Python\\Python39\\lib\\site-packages\\xgboost\\core.py:160: UserWarning: [01:32:02] WARNING: C:\\buildkite-agent\\builds\\buildkite-windows-cpu-autoscaling-group-i-0cec3277c4d9d0165-1\\xgboost\\xgboost-ci-windows\\src\\learner.cc:742: \n",
      "Parameters: { \"njobs\" } are not used.\n",
      "\n",
      "  warnings.warn(smsg, UserWarning)\n"
     ]
    },
    {
     "name": "stdout",
     "output_type": "stream",
     "text": [
      "Cross-validation, ROC AUC: 0.620+-0.011, Trees: 37\n"
     ]
    }
   ],
   "source": [
    "target = data_train.join(gender_train, how='inner')['gender']\n",
    "cv_score(params, data_train, target)"
   ]
  },
  {
   "cell_type": "code",
   "execution_count": 36,
   "metadata": {
    "ExecuteTime": {
     "end_time": "2019-03-05T17:35:45.714620Z",
     "start_time": "2019-03-05T17:35:45.018570Z"
    },
    "execution": {
     "iopub.execute_input": "2023-11-17T22:32:03.765548Z",
     "iopub.status.busy": "2023-11-17T22:32:03.765039Z",
     "iopub.status.idle": "2023-11-17T22:32:04.024306Z",
     "shell.execute_reply": "2023-11-17T22:32:04.023311Z",
     "shell.execute_reply.started": "2023-11-17T22:32:03.765548Z"
    },
    "tags": []
   },
   "outputs": [
    {
     "name": "stderr",
     "output_type": "stream",
     "text": [
      "C:\\Users\\MSI Prestige\\AppData\\Local\\Programs\\Python\\Python39\\lib\\site-packages\\xgboost\\core.py:160: UserWarning: [01:32:03] WARNING: C:\\buildkite-agent\\builds\\buildkite-windows-cpu-autoscaling-group-i-0cec3277c4d9d0165-1\\xgboost\\xgboost-ci-windows\\src\\learner.cc:742: \n",
      "Parameters: { \"njobs\" } are not used.\n",
      "\n",
      "  warnings.warn(smsg, UserWarning)\n"
     ]
    }
   ],
   "source": [
    "# Число деревьев для XGBoost имеет смысл выставлять по результатам на кросс-валидации \n",
    "clf, submission = fit_predict(params, 70, data_train, data_test, target)"
   ]
  },
  {
   "cell_type": "code",
   "execution_count": 37,
   "metadata": {
    "ExecuteTime": {
     "end_time": "2019-03-05T17:35:45.897370Z",
     "start_time": "2019-03-05T17:35:45.719320Z"
    },
    "execution": {
     "iopub.execute_input": "2023-11-17T22:32:04.026309Z",
     "iopub.status.busy": "2023-11-17T22:32:04.026309Z",
     "iopub.status.idle": "2023-11-17T22:32:04.260943Z",
     "shell.execute_reply": "2023-11-17T22:32:04.260068Z",
     "shell.execute_reply.started": "2023-11-17T22:32:04.026309Z"
    },
    "tags": []
   },
   "outputs": [
    {
     "data": {
      "image/png": "[encoded data removed]",
      "text/plain": [
       "<Figure size 1000x1000 with 1 Axes>"
      ]
     },
     "metadata": {},
     "output_type": "display_data"
    }
   ],
   "source": [
    "draw_feature_importances(clf, 10)"
   ]
  },
  {
   "cell_type": "code",
   "execution_count": 38,
   "metadata": {
    "execution": {
     "iopub.execute_input": "2023-11-17T22:32:04.261941Z",
     "iopub.status.busy": "2023-11-17T22:32:04.261941Z",
     "iopub.status.idle": "2023-11-17T22:32:04.276940Z",
     "shell.execute_reply": "2023-11-17T22:32:04.276048Z",
     "shell.execute_reply.started": "2023-11-17T22:32:04.261941Z"
    },
    "tags": []
   },
   "outputs": [],
   "source": [
    "# Сохраняем результат моделирования\n",
    "\n",
    "submission.to_csv('basic_features_submission.csv')"
   ]
  },
  {
   "cell_type": "markdown",
   "metadata": {},
   "source": [
    "## Advanced features\n",
    "Добавим дополнительные переменные по каждому пользователю в модель. <br>\n",
    "Для этого будем анализировать дни недели, часы и состояние дня/ночи во время покупки - в каждом из случаев будем считать частоту транзакций в соответствующей категории относитеьно всех остальных категорий. <br>\n",
    "То есть если, например, клиент в 70% случае совершал ночные траты, то мы получим вектор [0.7, 0.3] для этого случая в качестве частот транзакций ночью/днём."
   ]
  },
  {
   "cell_type": "code",
   "execution_count": 81,
   "metadata": {
    "execution": {
     "iopub.execute_input": "2023-11-17T23:11:52.128894Z",
     "iopub.status.busy": "2023-11-17T23:11:52.128894Z",
     "iopub.status.idle": "2023-11-17T23:11:52.161903Z",
     "shell.execute_reply": "2023-11-17T23:11:52.159905Z",
     "shell.execute_reply.started": "2023-11-17T23:11:52.128894Z"
    },
    "tags": []
   },
   "outputs": [
    {
     "data": {
      "text/html": [
       "<div>\n",
       "<style scoped>\n",
       "    .dataframe tbody tr th:only-of-type {\n",
       "        vertical-align: middle;\n",
       "    }\n",
       "\n",
       "    .dataframe tbody tr th {\n",
       "        vertical-align: top;\n",
       "    }\n",
       "\n",
       "    .dataframe thead th {\n",
       "        text-align: right;\n",
       "    }\n",
       "</style>\n",
       "<table border=\"1\" class=\"dataframe\">\n",
       "  <thead>\n",
       "    <tr style=\"text-align: right;\">\n",
       "      <th></th>\n",
       "      <th>trans_time</th>\n",
       "      <th>mcc_code</th>\n",
       "      <th>trans_type</th>\n",
       "      <th>amount</th>\n",
       "      <th>term_id</th>\n",
       "      <th>trans_city</th>\n",
       "    </tr>\n",
       "    <tr>\n",
       "      <th>client_id</th>\n",
       "      <th></th>\n",
       "      <th></th>\n",
       "      <th></th>\n",
       "      <th></th>\n",
       "      <th></th>\n",
       "      <th></th>\n",
       "    </tr>\n",
       "  </thead>\n",
       "  <tbody>\n",
       "    <tr>\n",
       "      <th>d1bbbc9a0e0410d3cf12a3d2f44f3450</th>\n",
       "      <td>35 08:24:41</td>\n",
       "      <td>4829</td>\n",
       "      <td>2370</td>\n",
       "      <td>-1808.56</td>\n",
       "      <td>NaN</td>\n",
       "      <td>Tver</td>\n",
       "    </tr>\n",
       "  </tbody>\n",
       "</table>\n",
       "</div>"
      ],
      "text/plain": [
       "                                   trans_time  mcc_code  trans_type   amount  \\\n",
       "client_id                                                                      \n",
       "d1bbbc9a0e0410d3cf12a3d2f44f3450  35 08:24:41      4829        2370 -1808.56   \n",
       "\n",
       "                                 term_id trans_city  \n",
       "client_id                                            \n",
       "d1bbbc9a0e0410d3cf12a3d2f44f3450     NaN       Tver  "
      ]
     },
     "execution_count": 81,
     "metadata": {},
     "output_type": "execute_result"
    }
   ],
   "source": [
    "transactions.head(1)"
   ]
  },
  {
   "cell_type": "code",
   "execution_count": 39,
   "metadata": {
    "ExecuteTime": {
     "end_time": "2019-03-05T17:35:57.677748Z",
     "start_time": "2019-03-05T17:35:45.921444Z"
    },
    "execution": {
     "iopub.execute_input": "2023-11-17T22:32:04.278941Z",
     "iopub.status.busy": "2023-11-17T22:32:04.277941Z",
     "iopub.status.idle": "2023-11-17T22:32:14.483280Z",
     "shell.execute_reply": "2023-11-17T22:32:14.482383Z",
     "shell.execute_reply.started": "2023-11-17T22:32:04.278941Z"
    },
    "tags": []
   },
   "outputs": [],
   "source": [
    "for df in [transactions_train, transactions_test]:\n",
    "    df['day'] = df['trans_time'].str.split().apply(lambda x: int(x[0]) % 7)\n",
    "    df['hour'] = df['trans_time'].apply(lambda x: re.search(' \\d*', x).group(0)).astype(int)\n",
    "    df['night'] = ~df['hour'].between(6, 22).astype(int)"
   ]
  },
  {
   "cell_type": "code",
   "execution_count": 40,
   "metadata": {
    "ExecuteTime": {
     "end_time": "2019-03-05T17:35:57.687397Z",
     "start_time": "2019-03-05T17:35:57.678823Z"
    },
    "execution": {
     "iopub.execute_input": "2023-11-17T22:32:14.485621Z",
     "iopub.status.busy": "2023-11-17T22:32:14.484345Z",
     "iopub.status.idle": "2023-11-17T22:32:14.499632Z",
     "shell.execute_reply": "2023-11-17T22:32:14.497747Z",
     "shell.execute_reply.started": "2023-11-17T22:32:14.485621Z"
    },
    "tags": []
   },
   "outputs": [],
   "source": [
    "def features_creation_advanced(x): \n",
    "    features = []\n",
    "    features.append(pd.Series(x['day'].value_counts(normalize=True).add_prefix('day_')))\n",
    "    features.append(pd.Series(x['hour'].value_counts(normalize=True).add_prefix('hour_')))\n",
    "    features.append(pd.Series(x['night'].value_counts(normalize=True).add_prefix('night_')))\n",
    "    features.append(pd.Series(x[x['amount']>0]['amount'].agg(['min', 'max', 'mean', 'median', 'std', 'count'])\\\n",
    "                                                        .add_prefix('positive_transactions_')))\n",
    "    features.append(pd.Series(x[x['amount']<0]['amount'].agg(['min', 'max', 'mean', 'median', 'std', 'count'])\\\n",
    "                                                        .add_prefix('negative_transactions_')))\n",
    " \n",
    "    return pd.concat(features)"
   ]
  },
  {
   "cell_type": "code",
   "execution_count": 41,
   "metadata": {
    "ExecuteTime": {
     "end_time": "2019-03-05T17:37:19.784321Z",
     "start_time": "2019-03-05T17:35:57.688448Z"
    },
    "execution": {
     "iopub.execute_input": "2023-11-17T22:32:14.500630Z",
     "iopub.status.busy": "2023-11-17T22:32:14.500630Z",
     "iopub.status.idle": "2023-11-17T22:32:59.107550Z",
     "shell.execute_reply": "2023-11-17T22:32:59.106381Z",
     "shell.execute_reply.started": "2023-11-17T22:32:14.500630Z"
    },
    "tags": []
   },
   "outputs": [
    {
     "data": {
      "application/vnd.jupyter.widget-view+json": {
       "model_id": "c7c19374cd8e4be6a093c7178c90884d",
       "version_major": 2,
       "version_minor": 0
      },
      "text/plain": [
       "Progress:   0%|          | 0/7560 [00:00<?, ?it/s]"
      ]
     },
     "metadata": {},
     "output_type": "display_data"
    },
    {
     "data": {
      "application/vnd.jupyter.widget-view+json": {
       "model_id": "2e4c4f3512e34a5294d42877734f1747",
       "version_major": 2,
       "version_minor": 0
      },
      "text/plain": [
       "Progress:   0%|          | 0/840 [00:00<?, ?it/s]"
      ]
     },
     "metadata": {},
     "output_type": "display_data"
    }
   ],
   "source": [
    "data_train = transactions_train.groupby(transactions_train.index)\\\n",
    "                               .progress_apply(features_creation_advanced).unstack(-1)\n",
    "data_test = transactions_test.groupby(transactions_test.index)\\\n",
    "                             .progress_apply(features_creation_advanced).unstack(-1)"
   ]
  },
  {
   "cell_type": "code",
   "execution_count": 42,
   "metadata": {
    "ExecuteTime": {
     "end_time": "2019-03-05T17:37:27.200528Z",
     "start_time": "2019-03-05T17:37:19.785535Z"
    },
    "execution": {
     "iopub.execute_input": "2023-11-17T22:32:59.108558Z",
     "iopub.status.busy": "2023-11-17T22:32:59.108558Z",
     "iopub.status.idle": "2023-11-17T22:33:03.074261Z",
     "shell.execute_reply": "2023-11-17T22:33:03.073261Z",
     "shell.execute_reply.started": "2023-11-17T22:32:59.108558Z"
    },
    "tags": []
   },
   "outputs": [
    {
     "name": "stderr",
     "output_type": "stream",
     "text": [
      "C:\\Users\\MSI Prestige\\AppData\\Local\\Programs\\Python\\Python39\\lib\\site-packages\\xgboost\\core.py:160: UserWarning: [01:32:59] WARNING: C:\\buildkite-agent\\builds\\buildkite-windows-cpu-autoscaling-group-i-0cec3277c4d9d0165-1\\xgboost\\xgboost-ci-windows\\src\\learner.cc:742: \n",
      "Parameters: { \"njobs\" } are not used.\n",
      "\n",
      "  warnings.warn(smsg, UserWarning)\n"
     ]
    },
    {
     "name": "stdout",
     "output_type": "stream",
     "text": [
      "Cross-validation, ROC AUC: 0.681+-0.011, Trees: 68\n"
     ]
    }
   ],
   "source": [
    "target = data_train.join(gender_train, how='inner')['gender']\n",
    "cv_score(params, data_train, target)"
   ]
  },
  {
   "cell_type": "code",
   "execution_count": 43,
   "metadata": {
    "ExecuteTime": {
     "end_time": "2019-03-05T17:37:28.307548Z",
     "start_time": "2019-03-05T17:37:27.205214Z"
    },
    "execution": {
     "iopub.execute_input": "2023-11-17T22:33:03.076261Z",
     "iopub.status.busy": "2023-11-17T22:33:03.076261Z",
     "iopub.status.idle": "2023-11-17T22:33:03.797043Z",
     "shell.execute_reply": "2023-11-17T22:33:03.796044Z",
     "shell.execute_reply.started": "2023-11-17T22:33:03.076261Z"
    },
    "tags": []
   },
   "outputs": [
    {
     "name": "stderr",
     "output_type": "stream",
     "text": [
      "C:\\Users\\MSI Prestige\\AppData\\Local\\Programs\\Python\\Python39\\lib\\site-packages\\xgboost\\core.py:160: UserWarning: [01:33:03] WARNING: C:\\buildkite-agent\\builds\\buildkite-windows-cpu-autoscaling-group-i-0cec3277c4d9d0165-1\\xgboost\\xgboost-ci-windows\\src\\learner.cc:742: \n",
      "Parameters: { \"njobs\" } are not used.\n",
      "\n",
      "  warnings.warn(smsg, UserWarning)\n"
     ]
    }
   ],
   "source": [
    "# Число деревьев для XGBoost имеет смысл выятавлять по результатам на кросс-валидации \n",
    "clf, submission = fit_predict(params, 70, data_train, data_test, target)"
   ]
  },
  {
   "cell_type": "code",
   "execution_count": 44,
   "metadata": {
    "ExecuteTime": {
     "end_time": "2019-03-05T17:37:28.426836Z",
     "start_time": "2019-03-05T17:37:28.308620Z"
    },
    "execution": {
     "iopub.execute_input": "2023-11-17T22:33:03.799043Z",
     "iopub.status.busy": "2023-11-17T22:33:03.798043Z",
     "iopub.status.idle": "2023-11-17T22:33:04.016752Z",
     "shell.execute_reply": "2023-11-17T22:33:04.015064Z",
     "shell.execute_reply.started": "2023-11-17T22:33:03.799043Z"
    },
    "tags": []
   },
   "outputs": [
    {
     "data": {
      "image/png": "[encoded data removed]",
      "text/plain": [
       "<Figure size 1000x1000 with 1 Axes>"
      ]
     },
     "metadata": {},
     "output_type": "display_data"
    }
   ],
   "source": [
    "draw_feature_importances(clf, 10)"
   ]
  },
  {
   "cell_type": "markdown",
   "metadata": {},
   "source": [
    "# транзакции по типам"
   ]
  },
  {
   "cell_type": "code",
   "execution_count": 61,
   "metadata": {
    "execution": {
     "iopub.execute_input": "2023-11-17T22:51:07.873014Z",
     "iopub.status.busy": "2023-11-17T22:51:07.873014Z",
     "iopub.status.idle": "2023-11-17T22:51:07.888994Z",
     "shell.execute_reply": "2023-11-17T22:51:07.887059Z",
     "shell.execute_reply.started": "2023-11-17T22:51:07.873014Z"
    },
    "tags": []
   },
   "outputs": [],
   "source": [
    "def features_creation_by_trans_type(x): \n",
    "    features = {}\n",
    "    features.update(x['day'].value_counts(normalize=True).add_prefix('day_').to_dict())\n",
    "    features.update(x['hour'].value_counts(normalize=True).add_prefix('hour_').to_dict())\n",
    "    features.update(x['night'].value_counts(normalize=True).add_prefix('night_').to_dict())\n",
    "    features.update(x[x['amount'] > 0]['amount'].agg(['min', 'max', 'mean', 'median', 'std', 'count'])\\\n",
    "                                                       .add_prefix('positive_transactions_').to_dict())\n",
    "    features.update(x[x['amount'] < 0]['amount'].agg(['min', 'max', 'mean', 'median', 'std', 'count'])\\\n",
    "                                                       .add_prefix('negative_transactions_').to_dict())\n",
    "\n",
    "    for trans_type in x['trans_type'].unique():\n",
    "        trans_type_data = x[x['trans_type'] == trans_type]['amount']\n",
    "        features.update(trans_type_data.agg(['min', 'max', 'mean', 'median', 'std', 'count'])\\\n",
    "                                         .add_prefix(f'{trans_type}_').to_dict())\n",
    "        \n",
    "    for trans_type in x['mcc_code'].unique():\n",
    "        trans_type_data = x[x['mcc_code'] == trans_type]['amount']\n",
    "        features.update(trans_type_data.agg(['min', 'max', 'mean', 'median', 'std', 'count'])\\\n",
    "                                         .add_prefix(f'{trans_type}_').to_dict())\n",
    "\n",
    "    return pd.Series(features)\n"
   ]
  },
  {
   "cell_type": "code",
   "execution_count": 62,
   "metadata": {
    "execution": {
     "iopub.execute_input": "2023-11-17T22:51:08.764069Z",
     "iopub.status.busy": "2023-11-17T22:51:08.764069Z",
     "iopub.status.idle": "2023-11-17T22:57:40.502248Z",
     "shell.execute_reply": "2023-11-17T22:57:40.500543Z",
     "shell.execute_reply.started": "2023-11-17T22:51:08.764069Z"
    },
    "tags": []
   },
   "outputs": [
    {
     "data": {
      "application/vnd.jupyter.widget-view+json": {
       "model_id": "ae3daa8c9d4a49aaa55a19cd0e1f6b76",
       "version_major": 2,
       "version_minor": 0
      },
      "text/plain": [
       "Progress:   0%|          | 0/7560 [00:00<?, ?it/s]"
      ]
     },
     "metadata": {},
     "output_type": "display_data"
    },
    {
     "data": {
      "application/vnd.jupyter.widget-view+json": {
       "model_id": "afa5b70b7b02462382ae482d4c8121f4",
       "version_major": 2,
       "version_minor": 0
      },
      "text/plain": [
       "Progress:   0%|          | 0/840 [00:00<?, ?it/s]"
      ]
     },
     "metadata": {},
     "output_type": "display_data"
    }
   ],
   "source": [
    "data_train = transactions_train.groupby(transactions_train.index).progress_apply(features_creation_by_trans_type)\n",
    "data_test = transactions_test.groupby(transactions_test.index).progress_apply(features_creation_by_trans_type)"
   ]
  },
  {
   "cell_type": "code",
   "execution_count": 64,
   "metadata": {
    "execution": {
     "iopub.execute_input": "2023-11-17T22:57:44.122233Z",
     "iopub.status.busy": "2023-11-17T22:57:44.121177Z",
     "iopub.status.idle": "2023-11-17T22:57:44.615420Z",
     "shell.execute_reply": "2023-11-17T22:57:44.614510Z",
     "shell.execute_reply.started": "2023-11-17T22:57:44.122233Z"
    },
    "tags": []
   },
   "outputs": [],
   "source": [
    "data_train_df = data_train.unstack()\n",
    "data_test_df = data_test.unstack()"
   ]
  },
  {
   "cell_type": "code",
   "execution_count": 82,
   "metadata": {
    "execution": {
     "iopub.execute_input": "2023-11-17T23:14:47.748569Z",
     "iopub.status.busy": "2023-11-17T23:14:47.748569Z",
     "iopub.status.idle": "2023-11-17T23:14:47.758770Z",
     "shell.execute_reply": "2023-11-17T23:14:47.757811Z",
     "shell.execute_reply.started": "2023-11-17T23:14:47.748569Z"
    },
    "tags": []
   },
   "outputs": [],
   "source": [
    "cols = data_test_df.columns.to_list()"
   ]
  },
  {
   "cell_type": "code",
   "execution_count": 83,
   "metadata": {
    "ExecuteTime": {
     "end_time": "2019-03-05T17:37:27.200528Z",
     "start_time": "2019-03-05T17:37:19.785535Z"
    },
    "execution": {
     "iopub.execute_input": "2023-11-17T23:14:58.681690Z",
     "iopub.status.busy": "2023-11-17T23:14:58.681690Z",
     "iopub.status.idle": "2023-11-17T23:16:53.514974Z",
     "shell.execute_reply": "2023-11-17T23:16:53.513986Z",
     "shell.execute_reply.started": "2023-11-17T23:14:58.681690Z"
    },
    "tags": []
   },
   "outputs": [
    {
     "name": "stderr",
     "output_type": "stream",
     "text": [
      "C:\\Users\\MSI Prestige\\AppData\\Local\\Programs\\Python\\Python39\\lib\\site-packages\\xgboost\\core.py:160: UserWarning: [02:14:59] WARNING: C:\\buildkite-agent\\builds\\buildkite-windows-cpu-autoscaling-group-i-0cec3277c4d9d0165-1\\xgboost\\xgboost-ci-windows\\src\\learner.cc:742: \n",
      "Parameters: { \"njobs\" } are not used.\n",
      "\n",
      "  warnings.warn(smsg, UserWarning)\n"
     ]
    },
    {
     "name": "stdout",
     "output_type": "stream",
     "text": [
      "Cross-validation, ROC AUC: 0.872+-0.003, Trees: 178\n"
     ]
    }
   ],
   "source": [
    "target = data_train_df.join(gender_train, how='inner')['gender']\n",
    "cv_score(params, data_train_df[cols], target)"
   ]
  },
  {
   "cell_type": "code",
   "execution_count": 85,
   "metadata": {
    "ExecuteTime": {
     "end_time": "2019-03-05T17:37:28.307548Z",
     "start_time": "2019-03-05T17:37:27.205214Z"
    },
    "execution": {
     "iopub.execute_input": "2023-11-17T23:17:09.931141Z",
     "iopub.status.busy": "2023-11-17T23:17:09.931141Z",
     "iopub.status.idle": "2023-11-17T23:17:30.653836Z",
     "shell.execute_reply": "2023-11-17T23:17:30.653836Z",
     "shell.execute_reply.started": "2023-11-17T23:17:09.931141Z"
    },
    "tags": []
   },
   "outputs": [
    {
     "name": "stderr",
     "output_type": "stream",
     "text": [
      "C:\\Users\\MSI Prestige\\AppData\\Local\\Programs\\Python\\Python39\\lib\\site-packages\\xgboost\\core.py:160: UserWarning: [02:17:10] WARNING: C:\\buildkite-agent\\builds\\buildkite-windows-cpu-autoscaling-group-i-0cec3277c4d9d0165-1\\xgboost\\xgboost-ci-windows\\src\\learner.cc:742: \n",
      "Parameters: { \"njobs\" } are not used.\n",
      "\n",
      "  warnings.warn(smsg, UserWarning)\n"
     ]
    }
   ],
   "source": [
    "# Число деревьев для XGBoost имеет смысл выятавлять по результатам на кросс-валидации \n",
    "clf, submission = fit_predict(params, 178, data_train_df[cols], data_test_df, target)"
   ]
  },
  {
   "cell_type": "code",
   "execution_count": 87,
   "metadata": {
    "execution": {
     "iopub.execute_input": "2023-11-17T23:18:13.558909Z",
     "iopub.status.busy": "2023-11-17T23:18:13.558909Z",
     "iopub.status.idle": "2023-11-17T23:18:13.574940Z",
     "shell.execute_reply": "2023-11-17T23:18:13.574069Z",
     "shell.execute_reply.started": "2023-11-17T23:18:13.558909Z"
    },
    "tags": []
   },
   "outputs": [],
   "source": [
    "submission.to_csv('advanced_features_submission.csv')"
   ]
  },
  {
   "cell_type": "code",
   "execution_count": 88,
   "metadata": {
    "execution": {
     "iopub.execute_input": "2023-11-17T23:18:41.011540Z",
     "iopub.status.busy": "2023-11-17T23:18:41.010540Z",
     "iopub.status.idle": "2023-11-17T23:18:41.022556Z",
     "shell.execute_reply": "2023-11-17T23:18:41.022556Z",
     "shell.execute_reply.started": "2023-11-17T23:18:41.011540Z"
    },
    "tags": []
   },
   "outputs": [
    {
     "data": {
      "text/plain": [
       "['xgb_agg_feats.pkl']"
      ]
     },
     "execution_count": 88,
     "metadata": {},
     "output_type": "execute_result"
    }
   ],
   "source": [
    "joblib.dump(clf, 'xgb_agg_feats.pkl')"
   ]
  },
  {
   "cell_type": "code",
   "execution_count": null,
   "metadata": {},
   "outputs": [],
   "source": []
  },
  {
   "cell_type": "code",
   "execution_count": null,
   "metadata": {},
   "outputs": [],
   "source": []
  },
  {
   "cell_type": "code",
   "execution_count": null,
   "metadata": {},
   "outputs": [],
   "source": []
  }
 ],
 "metadata": {
  "hide_input": false,
  "kernelspec": {
   "display_name": "Python 3 (ipykernel)",
   "language": "python",
   "name": "python3"
  },
  "language_info": {
   "codemirror_mode": {
    "name": "ipython",
    "version": 3
   },
   "file_extension": ".py",
   "mimetype": "text/x-python",
   "name": "python",
   "nbconvert_exporter": "python",
   "pygments_lexer": "ipython3",
   "version": "3.9.12"
  },
  "varInspector": {
   "cols": {
    "lenName": 16,
    "lenType": 16,
    "lenVar": 40
   },
   "kernels_config": {
    "python": {
     "delete_cmd_postfix": "",
     "delete_cmd_prefix": "del ",
     "library": "var_list.py",
     "varRefreshCmd": "print(var_dic_list())"
    },
    "r": {
     "delete_cmd_postfix": ") ",
     "delete_cmd_prefix": "rm(",
     "library": "var_list.r",
     "varRefreshCmd": "cat(var_dic_list()) "
    }
   },
   "types_to_exclude": [
    "module",
    "function",
    "builtin_function_or_method",
    "instance",
    "_Feature"
   ],
   "window_display": false
  }
 },
 "nbformat": 4,
 "nbformat_minor": 4
}
